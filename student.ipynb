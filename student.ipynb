{
 "cells": [
  {
   "cell_type": "markdown",
   "metadata": {},
   "source": [
    "## Final Project Submission\n",
    "\n",
    "Please fill out:\n",
    "* Student name: \n",
    "* Student pace: self paced / part time / full time\n",
    "* Scheduled project review date/time: \n",
    "* Instructor name: \n",
    "* Blog post URL:\n"
   ]
  },
  {
   "cell_type": "markdown",
   "metadata": {},
   "source": [
    "# *Step 1*"
   ]
  },
  {
   "cell_type": "markdown",
   "metadata": {},
   "source": [
    "#  Load the Datasets"
   ]
  },
  {
   "cell_type": "code",
   "execution_count": 1,
   "metadata": {},
   "outputs": [],
   "source": [
    "import pandas as pd \n",
    "import matplotlib.pyplot as plt\n",
    "import seaborn as sns\n",
    "import sqlite3\n",
    "\n"
   ]
  },
  {
   "cell_type": "markdown",
   "metadata": {},
   "source": [
    "### 1.*Rotten Tomato Dataset* "
   ]
  },
  {
   "cell_type": "code",
   "execution_count": 2,
   "metadata": {},
   "outputs": [],
   "source": [
    "\n",
    "\n",
    "# Load  2 TSV file\n",
    "movie_info= pd.read_csv('data/rt.movie_info.tsv.gz', sep='\\t')\n",
    "reviews=pd.read_csv('data/rt.reviews.tsv.gz', sep='\\t',encoding='latin1')\n",
    "\n",
    "\n"
   ]
  },
  {
   "cell_type": "markdown",
   "metadata": {},
   "source": [
    "## User-Defined function to give a summary"
   ]
  },
  {
   "cell_type": "code",
   "execution_count": 3,
   "metadata": {},
   "outputs": [],
   "source": [
    "def explore_dataframe(df, name=\"DataFrame\"): #user defined function to get the shape,info and description of the dataset\n",
    "    print(f\"\\n===== {name} Overview =====\")\n",
    "    \n",
    "    print(\"\\nShape:\")\n",
    "    print(df.shape)\n",
    "    \n",
    "    print(\"\\nInfo:\")\n",
    "    print(\"-\" * 40)\n",
    "    df.info()\n",
    "    \n",
    "    print(\"\\nDescription:\")\n",
    "    print(\"-\" * 40)\n",
    "    print(df.describe(include='all'))\n"
   ]
  },
  {
   "cell_type": "code",
   "execution_count": 4,
   "metadata": {},
   "outputs": [
    {
     "name": "stdout",
     "output_type": "stream",
     "text": [
      "\n",
      "===== Movie Info Overview =====\n",
      "\n",
      "Shape:\n",
      "(1560, 12)\n",
      "\n",
      "Info:\n",
      "----------------------------------------\n",
      "<class 'pandas.core.frame.DataFrame'>\n",
      "RangeIndex: 1560 entries, 0 to 1559\n",
      "Data columns (total 12 columns):\n",
      " #   Column        Non-Null Count  Dtype \n",
      "---  ------        --------------  ----- \n",
      " 0   id            1560 non-null   int64 \n",
      " 1   synopsis      1498 non-null   object\n",
      " 2   rating        1557 non-null   object\n",
      " 3   genre         1552 non-null   object\n",
      " 4   director      1361 non-null   object\n",
      " 5   writer        1111 non-null   object\n",
      " 6   theater_date  1201 non-null   object\n",
      " 7   dvd_date      1201 non-null   object\n",
      " 8   currency      340 non-null    object\n",
      " 9   box_office    340 non-null    object\n",
      " 10  runtime       1530 non-null   object\n",
      " 11  studio        494 non-null    object\n",
      "dtypes: int64(1), object(11)\n",
      "memory usage: 146.4+ KB\n",
      "\n",
      "Description:\n",
      "----------------------------------------\n",
      "                 id                                           synopsis rating  \\\n",
      "count   1560.000000                                               1498   1557   \n",
      "unique          NaN                                               1497      6   \n",
      "top             NaN  A group of air crash survivors are stranded in...      R   \n",
      "freq            NaN                                                  2    521   \n",
      "mean    1007.303846                                                NaN    NaN   \n",
      "std      579.164527                                                NaN    NaN   \n",
      "min        1.000000                                                NaN    NaN   \n",
      "25%      504.750000                                                NaN    NaN   \n",
      "50%     1007.500000                                                NaN    NaN   \n",
      "75%     1503.250000                                                NaN    NaN   \n",
      "max     2000.000000                                                NaN    NaN   \n",
      "\n",
      "        genre          director       writer theater_date     dvd_date  \\\n",
      "count    1552              1361         1111         1201         1201   \n",
      "unique    299              1125         1069         1025          717   \n",
      "top     Drama  Steven Spielberg  Woody Allen  Jan 1, 1987  Jun 1, 2004   \n",
      "freq      151                10            4            8           11   \n",
      "mean      NaN               NaN          NaN          NaN          NaN   \n",
      "std       NaN               NaN          NaN          NaN          NaN   \n",
      "min       NaN               NaN          NaN          NaN          NaN   \n",
      "25%       NaN               NaN          NaN          NaN          NaN   \n",
      "50%       NaN               NaN          NaN          NaN          NaN   \n",
      "75%       NaN               NaN          NaN          NaN          NaN   \n",
      "max       NaN               NaN          NaN          NaN          NaN   \n",
      "\n",
      "       currency box_office     runtime              studio  \n",
      "count       340        340        1530                 494  \n",
      "unique        1        336         142                 200  \n",
      "top           $    600,000  90 minutes  Universal Pictures  \n",
      "freq        340          2          72                  35  \n",
      "mean        NaN        NaN         NaN                 NaN  \n",
      "std         NaN        NaN         NaN                 NaN  \n",
      "min         NaN        NaN         NaN                 NaN  \n",
      "25%         NaN        NaN         NaN                 NaN  \n",
      "50%         NaN        NaN         NaN                 NaN  \n",
      "75%         NaN        NaN         NaN                 NaN  \n",
      "max         NaN        NaN         NaN                 NaN  \n"
     ]
    }
   ],
   "source": [
    "explore_dataframe(movie_info, name=\"Movie Info\") #calling the function\n",
    "\n"
   ]
  },
  {
   "cell_type": "markdown",
   "metadata": {},
   "source": [
    "### Mirroring the same on the **RT** review dataset"
   ]
  },
  {
   "cell_type": "code",
   "execution_count": 5,
   "metadata": {},
   "outputs": [
    {
     "name": "stdout",
     "output_type": "stream",
     "text": [
      "\n",
      "===== Reviews Overview =====\n",
      "\n",
      "Shape:\n",
      "(54432, 8)\n",
      "\n",
      "Info:\n",
      "----------------------------------------\n",
      "<class 'pandas.core.frame.DataFrame'>\n",
      "RangeIndex: 54432 entries, 0 to 54431\n",
      "Data columns (total 8 columns):\n",
      " #   Column      Non-Null Count  Dtype \n",
      "---  ------      --------------  ----- \n",
      " 0   id          54432 non-null  int64 \n",
      " 1   review      48869 non-null  object\n",
      " 2   rating      40915 non-null  object\n",
      " 3   fresh       54432 non-null  object\n",
      " 4   critic      51710 non-null  object\n",
      " 5   top_critic  54432 non-null  int64 \n",
      " 6   publisher   54123 non-null  object\n",
      " 7   date        54432 non-null  object\n",
      "dtypes: int64(2), object(6)\n",
      "memory usage: 3.3+ MB\n",
      "\n",
      "Description:\n",
      "----------------------------------------\n",
      "                  id                   review rating  fresh        critic  \\\n",
      "count   54432.000000                    48869  40915  54432         51710   \n",
      "unique           NaN                    48682    186      2          3496   \n",
      "top              NaN  Parental Content Review    3/5  fresh  Emanuel Levy   \n",
      "freq             NaN                       24   4327  33035           595   \n",
      "mean     1045.706882                      NaN    NaN    NaN           NaN   \n",
      "std       586.657046                      NaN    NaN    NaN           NaN   \n",
      "min         3.000000                      NaN    NaN    NaN           NaN   \n",
      "25%       542.000000                      NaN    NaN    NaN           NaN   \n",
      "50%      1083.000000                      NaN    NaN    NaN           NaN   \n",
      "75%      1541.000000                      NaN    NaN    NaN           NaN   \n",
      "max      2000.000000                      NaN    NaN    NaN           NaN   \n",
      "\n",
      "          top_critic        publisher             date  \n",
      "count   54432.000000            54123            54432  \n",
      "unique           NaN             1281             5963  \n",
      "top              NaN  eFilmCritic.com  January 1, 2000  \n",
      "freq             NaN              673             4303  \n",
      "mean        0.240594              NaN              NaN  \n",
      "std         0.427448              NaN              NaN  \n",
      "min         0.000000              NaN              NaN  \n",
      "25%         0.000000              NaN              NaN  \n",
      "50%         0.000000              NaN              NaN  \n",
      "75%         0.000000              NaN              NaN  \n",
      "max         1.000000              NaN              NaN  \n"
     ]
    }
   ],
   "source": [
    "explore_dataframe(reviews, name=\"Reviews\") #calling the function"
   ]
  },
  {
   "cell_type": "code",
   "execution_count": 6,
   "metadata": {},
   "outputs": [
    {
     "data": {
      "text/html": [
       "<div>\n",
       "<style scoped>\n",
       "    .dataframe tbody tr th:only-of-type {\n",
       "        vertical-align: middle;\n",
       "    }\n",
       "\n",
       "    .dataframe tbody tr th {\n",
       "        vertical-align: top;\n",
       "    }\n",
       "\n",
       "    .dataframe thead th {\n",
       "        text-align: right;\n",
       "    }\n",
       "</style>\n",
       "<table border=\"1\" class=\"dataframe\">\n",
       "  <thead>\n",
       "    <tr style=\"text-align: right;\">\n",
       "      <th></th>\n",
       "      <th>id</th>\n",
       "      <th>synopsis</th>\n",
       "      <th>rating</th>\n",
       "      <th>genre</th>\n",
       "      <th>director</th>\n",
       "      <th>writer</th>\n",
       "      <th>theater_date</th>\n",
       "      <th>dvd_date</th>\n",
       "      <th>currency</th>\n",
       "      <th>box_office</th>\n",
       "      <th>runtime</th>\n",
       "      <th>studio</th>\n",
       "    </tr>\n",
       "  </thead>\n",
       "  <tbody>\n",
       "    <tr>\n",
       "      <th>0</th>\n",
       "      <td>1</td>\n",
       "      <td>This gritty, fast-paced, and innovative police...</td>\n",
       "      <td>R</td>\n",
       "      <td>Action and Adventure|Classics|Drama</td>\n",
       "      <td>William Friedkin</td>\n",
       "      <td>Ernest Tidyman</td>\n",
       "      <td>Oct 9, 1971</td>\n",
       "      <td>Sep 25, 2001</td>\n",
       "      <td>NaN</td>\n",
       "      <td>NaN</td>\n",
       "      <td>104 minutes</td>\n",
       "      <td>NaN</td>\n",
       "    </tr>\n",
       "    <tr>\n",
       "      <th>1</th>\n",
       "      <td>3</td>\n",
       "      <td>New York City, not-too-distant-future: Eric Pa...</td>\n",
       "      <td>R</td>\n",
       "      <td>Drama|Science Fiction and Fantasy</td>\n",
       "      <td>David Cronenberg</td>\n",
       "      <td>David Cronenberg|Don DeLillo</td>\n",
       "      <td>Aug 17, 2012</td>\n",
       "      <td>Jan 1, 2013</td>\n",
       "      <td>$</td>\n",
       "      <td>600,000</td>\n",
       "      <td>108 minutes</td>\n",
       "      <td>Entertainment One</td>\n",
       "    </tr>\n",
       "    <tr>\n",
       "      <th>2</th>\n",
       "      <td>5</td>\n",
       "      <td>Illeana Douglas delivers a superb performance ...</td>\n",
       "      <td>R</td>\n",
       "      <td>Drama|Musical and Performing Arts</td>\n",
       "      <td>Allison Anders</td>\n",
       "      <td>Allison Anders</td>\n",
       "      <td>Sep 13, 1996</td>\n",
       "      <td>Apr 18, 2000</td>\n",
       "      <td>NaN</td>\n",
       "      <td>NaN</td>\n",
       "      <td>116 minutes</td>\n",
       "      <td>NaN</td>\n",
       "    </tr>\n",
       "    <tr>\n",
       "      <th>3</th>\n",
       "      <td>6</td>\n",
       "      <td>Michael Douglas runs afoul of a treacherous su...</td>\n",
       "      <td>R</td>\n",
       "      <td>Drama|Mystery and Suspense</td>\n",
       "      <td>Barry Levinson</td>\n",
       "      <td>Paul Attanasio|Michael Crichton</td>\n",
       "      <td>Dec 9, 1994</td>\n",
       "      <td>Aug 27, 1997</td>\n",
       "      <td>NaN</td>\n",
       "      <td>NaN</td>\n",
       "      <td>128 minutes</td>\n",
       "      <td>NaN</td>\n",
       "    </tr>\n",
       "    <tr>\n",
       "      <th>4</th>\n",
       "      <td>7</td>\n",
       "      <td>NaN</td>\n",
       "      <td>NR</td>\n",
       "      <td>Drama|Romance</td>\n",
       "      <td>Rodney Bennett</td>\n",
       "      <td>Giles Cooper</td>\n",
       "      <td>NaN</td>\n",
       "      <td>NaN</td>\n",
       "      <td>NaN</td>\n",
       "      <td>NaN</td>\n",
       "      <td>200 minutes</td>\n",
       "      <td>NaN</td>\n",
       "    </tr>\n",
       "  </tbody>\n",
       "</table>\n",
       "</div>"
      ],
      "text/plain": [
       "   id                                           synopsis rating  \\\n",
       "0   1  This gritty, fast-paced, and innovative police...      R   \n",
       "1   3  New York City, not-too-distant-future: Eric Pa...      R   \n",
       "2   5  Illeana Douglas delivers a superb performance ...      R   \n",
       "3   6  Michael Douglas runs afoul of a treacherous su...      R   \n",
       "4   7                                                NaN     NR   \n",
       "\n",
       "                                 genre          director  \\\n",
       "0  Action and Adventure|Classics|Drama  William Friedkin   \n",
       "1    Drama|Science Fiction and Fantasy  David Cronenberg   \n",
       "2    Drama|Musical and Performing Arts    Allison Anders   \n",
       "3           Drama|Mystery and Suspense    Barry Levinson   \n",
       "4                        Drama|Romance    Rodney Bennett   \n",
       "\n",
       "                            writer  theater_date      dvd_date currency  \\\n",
       "0                   Ernest Tidyman   Oct 9, 1971  Sep 25, 2001      NaN   \n",
       "1     David Cronenberg|Don DeLillo  Aug 17, 2012   Jan 1, 2013        $   \n",
       "2                   Allison Anders  Sep 13, 1996  Apr 18, 2000      NaN   \n",
       "3  Paul Attanasio|Michael Crichton   Dec 9, 1994  Aug 27, 1997      NaN   \n",
       "4                     Giles Cooper           NaN           NaN      NaN   \n",
       "\n",
       "  box_office      runtime             studio  \n",
       "0        NaN  104 minutes                NaN  \n",
       "1    600,000  108 minutes  Entertainment One  \n",
       "2        NaN  116 minutes                NaN  \n",
       "3        NaN  128 minutes                NaN  \n",
       "4        NaN  200 minutes                NaN  "
      ]
     },
     "execution_count": 6,
     "metadata": {},
     "output_type": "execute_result"
    }
   ],
   "source": [
    "movie_info.head() "
   ]
  },
  {
   "cell_type": "code",
   "execution_count": 7,
   "metadata": {},
   "outputs": [
    {
     "data": {
      "text/html": [
       "<div>\n",
       "<style scoped>\n",
       "    .dataframe tbody tr th:only-of-type {\n",
       "        vertical-align: middle;\n",
       "    }\n",
       "\n",
       "    .dataframe tbody tr th {\n",
       "        vertical-align: top;\n",
       "    }\n",
       "\n",
       "    .dataframe thead th {\n",
       "        text-align: right;\n",
       "    }\n",
       "</style>\n",
       "<table border=\"1\" class=\"dataframe\">\n",
       "  <thead>\n",
       "    <tr style=\"text-align: right;\">\n",
       "      <th></th>\n",
       "      <th>id</th>\n",
       "      <th>review</th>\n",
       "      <th>rating</th>\n",
       "      <th>fresh</th>\n",
       "      <th>critic</th>\n",
       "      <th>top_critic</th>\n",
       "      <th>publisher</th>\n",
       "      <th>date</th>\n",
       "    </tr>\n",
       "  </thead>\n",
       "  <tbody>\n",
       "    <tr>\n",
       "      <th>0</th>\n",
       "      <td>3</td>\n",
       "      <td>A distinctly gallows take on contemporary fina...</td>\n",
       "      <td>3/5</td>\n",
       "      <td>fresh</td>\n",
       "      <td>PJ Nabarro</td>\n",
       "      <td>0</td>\n",
       "      <td>Patrick Nabarro</td>\n",
       "      <td>November 10, 2018</td>\n",
       "    </tr>\n",
       "    <tr>\n",
       "      <th>1</th>\n",
       "      <td>3</td>\n",
       "      <td>It's an allegory in search of a meaning that n...</td>\n",
       "      <td>NaN</td>\n",
       "      <td>rotten</td>\n",
       "      <td>Annalee Newitz</td>\n",
       "      <td>0</td>\n",
       "      <td>io9.com</td>\n",
       "      <td>May 23, 2018</td>\n",
       "    </tr>\n",
       "    <tr>\n",
       "      <th>2</th>\n",
       "      <td>3</td>\n",
       "      <td>... life lived in a bubble in financial dealin...</td>\n",
       "      <td>NaN</td>\n",
       "      <td>fresh</td>\n",
       "      <td>Sean Axmaker</td>\n",
       "      <td>0</td>\n",
       "      <td>Stream on Demand</td>\n",
       "      <td>January 4, 2018</td>\n",
       "    </tr>\n",
       "    <tr>\n",
       "      <th>3</th>\n",
       "      <td>3</td>\n",
       "      <td>Continuing along a line introduced in last yea...</td>\n",
       "      <td>NaN</td>\n",
       "      <td>fresh</td>\n",
       "      <td>Daniel Kasman</td>\n",
       "      <td>0</td>\n",
       "      <td>MUBI</td>\n",
       "      <td>November 16, 2017</td>\n",
       "    </tr>\n",
       "    <tr>\n",
       "      <th>4</th>\n",
       "      <td>3</td>\n",
       "      <td>... a perverse twist on neorealism...</td>\n",
       "      <td>NaN</td>\n",
       "      <td>fresh</td>\n",
       "      <td>NaN</td>\n",
       "      <td>0</td>\n",
       "      <td>Cinema Scope</td>\n",
       "      <td>October 12, 2017</td>\n",
       "    </tr>\n",
       "  </tbody>\n",
       "</table>\n",
       "</div>"
      ],
      "text/plain": [
       "   id                                             review rating   fresh  \\\n",
       "0   3  A distinctly gallows take on contemporary fina...    3/5   fresh   \n",
       "1   3  It's an allegory in search of a meaning that n...    NaN  rotten   \n",
       "2   3  ... life lived in a bubble in financial dealin...    NaN   fresh   \n",
       "3   3  Continuing along a line introduced in last yea...    NaN   fresh   \n",
       "4   3             ... a perverse twist on neorealism...     NaN   fresh   \n",
       "\n",
       "           critic  top_critic         publisher               date  \n",
       "0      PJ Nabarro           0   Patrick Nabarro  November 10, 2018  \n",
       "1  Annalee Newitz           0           io9.com       May 23, 2018  \n",
       "2    Sean Axmaker           0  Stream on Demand    January 4, 2018  \n",
       "3   Daniel Kasman           0              MUBI  November 16, 2017  \n",
       "4             NaN           0      Cinema Scope   October 12, 2017  "
      ]
     },
     "execution_count": 7,
     "metadata": {},
     "output_type": "execute_result"
    }
   ],
   "source": [
    "reviews.head()"
   ]
  },
  {
   "cell_type": "markdown",
   "metadata": {},
   "source": [
    "#### Check the percentage of missing values"
   ]
  },
  {
   "cell_type": "code",
   "execution_count": 8,
   "metadata": {},
   "outputs": [
    {
     "name": "stdout",
     "output_type": "stream",
     "text": [
      "box_office      78.205128\n",
      "currency        78.205128\n",
      "studio          68.333333\n",
      "writer          28.782051\n",
      "dvd_date        23.012821\n",
      "theater_date    23.012821\n",
      "director        12.756410\n",
      "synopsis         3.974359\n",
      "runtime          1.923077\n",
      "genre            0.512821\n",
      "rating           0.192308\n",
      "id               0.000000\n",
      "dtype: float64\n"
     ]
    }
   ],
   "source": [
    "# Calculate missing percentages\n",
    "missing_percentage = (movie_info.isnull().sum() / len(movie_info)) * 100\n",
    "\n",
    "# Display missing values sorted in descending order\n",
    "print(missing_percentage.sort_values(ascending=False))"
   ]
  },
  {
   "cell_type": "markdown",
   "metadata": {},
   "source": [
    "#### **Cleaning and rechecking of the dataset**"
   ]
  },
  {
   "cell_type": "code",
   "execution_count": 9,
   "metadata": {},
   "outputs": [
    {
     "name": "stdout",
     "output_type": "stream",
     "text": [
      "studio          0.0\n",
      "runtime         0.0\n",
      "box_office      0.0\n",
      "currency        0.0\n",
      "dvd_date        0.0\n",
      "theater_date    0.0\n",
      "writer          0.0\n",
      "director        0.0\n",
      "genre           0.0\n",
      "rating          0.0\n",
      "synopsis        0.0\n",
      "id              0.0\n",
      "dtype: float64\n"
     ]
    }
   ],
   "source": [
    "\n",
    "\n",
    "def input_missing_values(df):\n",
    "    for col in df.columns:\n",
    "        if df[col].isnull().sum() > 0:\n",
    "            if pd.api.types.is_numeric_dtype(df[col]):\n",
    "                # If numeric, fill missing values with the median\n",
    "                df[col].fillna(df[col].median(), inplace=True)\n",
    "            elif pd.api.types.is_object_dtype(df[col]):\n",
    "                # If categorical, fill missing values with the mode\n",
    "                df[col].fillna(df[col].mode()[0], inplace=True)\n",
    "            elif pd.api.types.is_datetime64_any_dtype(df[col]):\n",
    "                # If date column, fill missing dates with the most frequent date or median\n",
    "                df[col].fillna(df[col].mode()[0], inplace=True)\n",
    "                \n",
    "    return df\n",
    "\n",
    "# Assuming df is your DataFrame\n",
    "movie_info_cleaned = input_missing_values(movie_info)\n",
    "reviews_cleaned = input_missing_values(reviews)\n",
    "\n",
    "\n",
    "# Calculate missing percentages\n",
    "missing_percentage = (movie_info_cleaned.isnull().sum() / len(movie_info_cleaned)) * 100\n",
    "\n",
    "# Display missing values sorted in descending order\n",
    "print(missing_percentage.sort_values(ascending=False))\n"
   ]
  },
  {
   "cell_type": "code",
   "execution_count": 10,
   "metadata": {},
   "outputs": [
    {
     "data": {
      "text/plain": [
       "(1560, 12)"
      ]
     },
     "execution_count": 10,
     "metadata": {},
     "output_type": "execute_result"
    }
   ],
   "source": [
    "movie_info_cleaned.shape"
   ]
  },
  {
   "cell_type": "code",
   "execution_count": 11,
   "metadata": {},
   "outputs": [
    {
     "name": "stdout",
     "output_type": "stream",
     "text": [
      "date          0.0\n",
      "publisher     0.0\n",
      "top_critic    0.0\n",
      "critic        0.0\n",
      "fresh         0.0\n",
      "rating        0.0\n",
      "review        0.0\n",
      "id            0.0\n",
      "dtype: float64\n"
     ]
    }
   ],
   "source": [
    "# Calculate missing percentages\n",
    "missing_percentage = (reviews.isnull().sum() / len(reviews)) * 100\n",
    "\n",
    "# Display missing values sorted in descending order\n",
    "print(missing_percentage.sort_values(ascending=False))"
   ]
  },
  {
   "cell_type": "code",
   "execution_count": 12,
   "metadata": {},
   "outputs": [
    {
     "name": "stdout",
     "output_type": "stream",
     "text": [
      "date          0.0\n",
      "publisher     0.0\n",
      "top_critic    0.0\n",
      "critic        0.0\n",
      "fresh         0.0\n",
      "rating        0.0\n",
      "review        0.0\n",
      "id            0.0\n",
      "dtype: float64\n"
     ]
    }
   ],
   "source": [
    "\n",
    "\n",
    "# Calculate missing percentages\n",
    "missing_percentage = (reviews_cleaned.isnull().sum() / len(reviews_cleaned)) * 100\n",
    "\n",
    "# Display missing values sorted in descending order\n",
    "print(missing_percentage.sort_values(ascending=False))"
   ]
  },
  {
   "cell_type": "code",
   "execution_count": 13,
   "metadata": {},
   "outputs": [
    {
     "data": {
      "text/plain": [
       "(54432, 8)"
      ]
     },
     "execution_count": 13,
     "metadata": {},
     "output_type": "execute_result"
    }
   ],
   "source": [
    "reviews_cleaned.shape"
   ]
  },
  {
   "cell_type": "code",
   "execution_count": 14,
   "metadata": {},
   "outputs": [
    {
     "name": "stdout",
     "output_type": "stream",
     "text": [
      "   id                                             review rating_x   fresh  \\\n",
      "0   3  A distinctly gallows take on contemporary fina...      3/5   fresh   \n",
      "1   3  It's an allegory in search of a meaning that n...      3/5  rotten   \n",
      "2   3  ... life lived in a bubble in financial dealin...      3/5   fresh   \n",
      "3   3  Continuing along a line introduced in last yea...      3/5   fresh   \n",
      "4   3             ... a perverse twist on neorealism...       3/5   fresh   \n",
      "\n",
      "           critic  top_critic         publisher               date  \\\n",
      "0      PJ Nabarro           0   Patrick Nabarro  November 10, 2018   \n",
      "1  Annalee Newitz           0           io9.com       May 23, 2018   \n",
      "2    Sean Axmaker           0  Stream on Demand    January 4, 2018   \n",
      "3   Daniel Kasman           0              MUBI  November 16, 2017   \n",
      "4    Emanuel Levy           0      Cinema Scope   October 12, 2017   \n",
      "\n",
      "                                            synopsis rating_y  \\\n",
      "0  New York City, not-too-distant-future: Eric Pa...        R   \n",
      "1  New York City, not-too-distant-future: Eric Pa...        R   \n",
      "2  New York City, not-too-distant-future: Eric Pa...        R   \n",
      "3  New York City, not-too-distant-future: Eric Pa...        R   \n",
      "4  New York City, not-too-distant-future: Eric Pa...        R   \n",
      "\n",
      "                               genre          director  \\\n",
      "0  Drama|Science Fiction and Fantasy  David Cronenberg   \n",
      "1  Drama|Science Fiction and Fantasy  David Cronenberg   \n",
      "2  Drama|Science Fiction and Fantasy  David Cronenberg   \n",
      "3  Drama|Science Fiction and Fantasy  David Cronenberg   \n",
      "4  Drama|Science Fiction and Fantasy  David Cronenberg   \n",
      "\n",
      "                         writer  theater_date     dvd_date currency  \\\n",
      "0  David Cronenberg|Don DeLillo  Aug 17, 2012  Jan 1, 2013        $   \n",
      "1  David Cronenberg|Don DeLillo  Aug 17, 2012  Jan 1, 2013        $   \n",
      "2  David Cronenberg|Don DeLillo  Aug 17, 2012  Jan 1, 2013        $   \n",
      "3  David Cronenberg|Don DeLillo  Aug 17, 2012  Jan 1, 2013        $   \n",
      "4  David Cronenberg|Don DeLillo  Aug 17, 2012  Jan 1, 2013        $   \n",
      "\n",
      "  box_office      runtime             studio  \n",
      "0    600,000  108 minutes  Entertainment One  \n",
      "1    600,000  108 minutes  Entertainment One  \n",
      "2    600,000  108 minutes  Entertainment One  \n",
      "3    600,000  108 minutes  Entertainment One  \n",
      "4    600,000  108 minutes  Entertainment One  \n"
     ]
    }
   ],
   "source": [
    "# Merge the two DataFrames on the 'id' column\n",
    "merged_df = pd.merge(reviews_cleaned, movie_info_cleaned, on='id', how='inner')\n",
    "\n",
    "# Optionally, you can print or explore the merged DataFrame\n",
    "print(merged_df.head())\n"
   ]
  },
  {
   "cell_type": "code",
   "execution_count": 15,
   "metadata": {},
   "outputs": [
    {
     "name": "stdout",
     "output_type": "stream",
     "text": [
      "Number of duplicate rows: 9\n"
     ]
    },
    {
     "data": {
      "text/html": [
       "<div>\n",
       "<style scoped>\n",
       "    .dataframe tbody tr th:only-of-type {\n",
       "        vertical-align: middle;\n",
       "    }\n",
       "\n",
       "    .dataframe tbody tr th {\n",
       "        vertical-align: top;\n",
       "    }\n",
       "\n",
       "    .dataframe thead th {\n",
       "        text-align: right;\n",
       "    }\n",
       "</style>\n",
       "<table border=\"1\" class=\"dataframe\">\n",
       "  <thead>\n",
       "    <tr style=\"text-align: right;\">\n",
       "      <th></th>\n",
       "      <th>id</th>\n",
       "      <th>review</th>\n",
       "      <th>rating_x</th>\n",
       "      <th>fresh</th>\n",
       "      <th>critic</th>\n",
       "      <th>top_critic</th>\n",
       "      <th>publisher</th>\n",
       "      <th>date</th>\n",
       "      <th>synopsis</th>\n",
       "      <th>rating_y</th>\n",
       "      <th>genre</th>\n",
       "      <th>director</th>\n",
       "      <th>writer</th>\n",
       "      <th>theater_date</th>\n",
       "      <th>dvd_date</th>\n",
       "      <th>currency</th>\n",
       "      <th>box_office</th>\n",
       "      <th>runtime</th>\n",
       "      <th>studio</th>\n",
       "    </tr>\n",
       "  </thead>\n",
       "  <tbody>\n",
       "    <tr>\n",
       "      <th>8129</th>\n",
       "      <td>304</td>\n",
       "      <td>Friends With Kids is a smart, witty and potty-...</td>\n",
       "      <td>3/5</td>\n",
       "      <td>fresh</td>\n",
       "      <td>Emanuel Levy</td>\n",
       "      <td>0</td>\n",
       "      <td>Liverpool Echo</td>\n",
       "      <td>June 29, 2012</td>\n",
       "      <td>Friends with Kids is a daring and poignant ens...</td>\n",
       "      <td>R</td>\n",
       "      <td>Comedy|Drama</td>\n",
       "      <td>Jennifer Westfeldt</td>\n",
       "      <td>Jennifer Westfeldt</td>\n",
       "      <td>Mar 9, 2012</td>\n",
       "      <td>Jul 17, 2012</td>\n",
       "      <td>$</td>\n",
       "      <td>5,600,000</td>\n",
       "      <td>107 minutes</td>\n",
       "      <td>Roadside Attractions</td>\n",
       "    </tr>\n",
       "    <tr>\n",
       "      <th>14575</th>\n",
       "      <td>581</td>\n",
       "      <td>Parental Content Review</td>\n",
       "      <td>4.5/5</td>\n",
       "      <td>fresh</td>\n",
       "      <td>Emanuel Levy</td>\n",
       "      <td>0</td>\n",
       "      <td>Film Threat</td>\n",
       "      <td>December 6, 2005</td>\n",
       "      <td>David Wagner is a Nineties kid with a Fifties ...</td>\n",
       "      <td>PG-13</td>\n",
       "      <td>Comedy|Drama|Science Fiction and Fantasy</td>\n",
       "      <td>Gary Ross</td>\n",
       "      <td>Gary Ross</td>\n",
       "      <td>Oct 23, 1998</td>\n",
       "      <td>Mar 23, 1999</td>\n",
       "      <td>$</td>\n",
       "      <td>20,900,803</td>\n",
       "      <td>125 minutes</td>\n",
       "      <td>New Line Cinema</td>\n",
       "    </tr>\n",
       "    <tr>\n",
       "      <th>26226</th>\n",
       "      <td>1055</td>\n",
       "      <td>Parental Content Review</td>\n",
       "      <td>4/5</td>\n",
       "      <td>fresh</td>\n",
       "      <td>Emanuel Levy</td>\n",
       "      <td>0</td>\n",
       "      <td>Film Threat</td>\n",
       "      <td>December 6, 2005</td>\n",
       "      <td>The grim futility of the war between Bosnia an...</td>\n",
       "      <td>R</td>\n",
       "      <td>Art House and International|Drama</td>\n",
       "      <td>Danis Tanovic</td>\n",
       "      <td>Danis Tanovic</td>\n",
       "      <td>Dec 21, 2001</td>\n",
       "      <td>Apr 9, 2002</td>\n",
       "      <td>$</td>\n",
       "      <td>948,054</td>\n",
       "      <td>98 minutes</td>\n",
       "      <td>United Artists Pictures</td>\n",
       "    </tr>\n",
       "    <tr>\n",
       "      <th>35162</th>\n",
       "      <td>1368</td>\n",
       "      <td>Parental Content Review</td>\n",
       "      <td>2/5</td>\n",
       "      <td>rotten</td>\n",
       "      <td>Emanuel Levy</td>\n",
       "      <td>0</td>\n",
       "      <td>Film Threat</td>\n",
       "      <td>December 6, 2005</td>\n",
       "      <td>In this drama, two U.S. Marines who stood side...</td>\n",
       "      <td>R</td>\n",
       "      <td>Action and Adventure|Drama|Mystery and Suspense</td>\n",
       "      <td>William Friedkin</td>\n",
       "      <td>Stephen Gaghan</td>\n",
       "      <td>Apr 7, 2000</td>\n",
       "      <td>Oct 10, 2000</td>\n",
       "      <td>$</td>\n",
       "      <td>20,900,803</td>\n",
       "      <td>127 minutes</td>\n",
       "      <td>Paramount Pictures</td>\n",
       "    </tr>\n",
       "    <tr>\n",
       "      <th>35166</th>\n",
       "      <td>1368</td>\n",
       "      <td>Parental Content Review</td>\n",
       "      <td>2/5</td>\n",
       "      <td>rotten</td>\n",
       "      <td>Emanuel Levy</td>\n",
       "      <td>0</td>\n",
       "      <td>Film Threat</td>\n",
       "      <td>December 8, 2002</td>\n",
       "      <td>In this drama, two U.S. Marines who stood side...</td>\n",
       "      <td>R</td>\n",
       "      <td>Action and Adventure|Drama|Mystery and Suspense</td>\n",
       "      <td>William Friedkin</td>\n",
       "      <td>Stephen Gaghan</td>\n",
       "      <td>Apr 7, 2000</td>\n",
       "      <td>Oct 10, 2000</td>\n",
       "      <td>$</td>\n",
       "      <td>20,900,803</td>\n",
       "      <td>127 minutes</td>\n",
       "      <td>Paramount Pictures</td>\n",
       "    </tr>\n",
       "    <tr>\n",
       "      <th>40567</th>\n",
       "      <td>1535</td>\n",
       "      <td>Parental Content Review</td>\n",
       "      <td>2/5</td>\n",
       "      <td>rotten</td>\n",
       "      <td>Emanuel Levy</td>\n",
       "      <td>0</td>\n",
       "      <td>Film Threat</td>\n",
       "      <td>December 6, 2005</td>\n",
       "      <td>Vin Diesel opted to not appear in the sequel t...</td>\n",
       "      <td>PG-13</td>\n",
       "      <td>Action and Adventure|Drama|Mystery and Suspense</td>\n",
       "      <td>John Singleton</td>\n",
       "      <td>Gary Scott Thompson|Derek Haas|Michael Brandt</td>\n",
       "      <td>Jun 6, 2003</td>\n",
       "      <td>Sep 30, 2003</td>\n",
       "      <td>$</td>\n",
       "      <td>127,083,765</td>\n",
       "      <td>108 minutes</td>\n",
       "      <td>Universal Pictures Distributio</td>\n",
       "    </tr>\n",
       "    <tr>\n",
       "      <th>42381</th>\n",
       "      <td>1598</td>\n",
       "      <td>This tired, neutered action thriller won't cau...</td>\n",
       "      <td>2/5</td>\n",
       "      <td>rotten</td>\n",
       "      <td>Emanuel Levy</td>\n",
       "      <td>0</td>\n",
       "      <td>Empire Magazine</td>\n",
       "      <td>November 14, 2008</td>\n",
       "      <td>Max Payne is a maverick cop - a mythic anti-he...</td>\n",
       "      <td>PG-13</td>\n",
       "      <td>Action and Adventure|Drama|Mystery and Suspense</td>\n",
       "      <td>Steven Spielberg</td>\n",
       "      <td>Beau Thorne</td>\n",
       "      <td>Oct 17, 2008</td>\n",
       "      <td>Jan 20, 2009</td>\n",
       "      <td>$</td>\n",
       "      <td>40,632,110</td>\n",
       "      <td>100 minutes</td>\n",
       "      <td>20th Century Fox</td>\n",
       "    </tr>\n",
       "    <tr>\n",
       "      <th>49487</th>\n",
       "      <td>1843</td>\n",
       "      <td>Parental Content Review</td>\n",
       "      <td>0.5/5</td>\n",
       "      <td>rotten</td>\n",
       "      <td>Emanuel Levy</td>\n",
       "      <td>0</td>\n",
       "      <td>Film Threat</td>\n",
       "      <td>December 6, 2005</td>\n",
       "      <td>Madonna and Rupert Everett star in this comic ...</td>\n",
       "      <td>PG-13</td>\n",
       "      <td>Art House and International|Comedy|Drama</td>\n",
       "      <td>John Schlesinger</td>\n",
       "      <td>Tom Ropelewski</td>\n",
       "      <td>Mar 3, 2000</td>\n",
       "      <td>May 2, 2005</td>\n",
       "      <td>$</td>\n",
       "      <td>20,900,803</td>\n",
       "      <td>108 minutes</td>\n",
       "      <td>Paramount Home Video</td>\n",
       "    </tr>\n",
       "    <tr>\n",
       "      <th>49492</th>\n",
       "      <td>1843</td>\n",
       "      <td>Parental Content Review</td>\n",
       "      <td>0.5/5</td>\n",
       "      <td>rotten</td>\n",
       "      <td>Emanuel Levy</td>\n",
       "      <td>0</td>\n",
       "      <td>Film Threat</td>\n",
       "      <td>December 8, 2002</td>\n",
       "      <td>Madonna and Rupert Everett star in this comic ...</td>\n",
       "      <td>PG-13</td>\n",
       "      <td>Art House and International|Comedy|Drama</td>\n",
       "      <td>John Schlesinger</td>\n",
       "      <td>Tom Ropelewski</td>\n",
       "      <td>Mar 3, 2000</td>\n",
       "      <td>May 2, 2005</td>\n",
       "      <td>$</td>\n",
       "      <td>20,900,803</td>\n",
       "      <td>108 minutes</td>\n",
       "      <td>Paramount Home Video</td>\n",
       "    </tr>\n",
       "  </tbody>\n",
       "</table>\n",
       "</div>"
      ],
      "text/plain": [
       "         id                                             review rating_x  \\\n",
       "8129    304  Friends With Kids is a smart, witty and potty-...      3/5   \n",
       "14575   581                            Parental Content Review    4.5/5   \n",
       "26226  1055                            Parental Content Review      4/5   \n",
       "35162  1368                            Parental Content Review      2/5   \n",
       "35166  1368                            Parental Content Review      2/5   \n",
       "40567  1535                            Parental Content Review      2/5   \n",
       "42381  1598  This tired, neutered action thriller won't cau...      2/5   \n",
       "49487  1843                            Parental Content Review    0.5/5   \n",
       "49492  1843                            Parental Content Review    0.5/5   \n",
       "\n",
       "        fresh        critic  top_critic        publisher               date  \\\n",
       "8129    fresh  Emanuel Levy           0   Liverpool Echo      June 29, 2012   \n",
       "14575   fresh  Emanuel Levy           0      Film Threat   December 6, 2005   \n",
       "26226   fresh  Emanuel Levy           0      Film Threat   December 6, 2005   \n",
       "35162  rotten  Emanuel Levy           0      Film Threat   December 6, 2005   \n",
       "35166  rotten  Emanuel Levy           0      Film Threat   December 8, 2002   \n",
       "40567  rotten  Emanuel Levy           0      Film Threat   December 6, 2005   \n",
       "42381  rotten  Emanuel Levy           0  Empire Magazine  November 14, 2008   \n",
       "49487  rotten  Emanuel Levy           0      Film Threat   December 6, 2005   \n",
       "49492  rotten  Emanuel Levy           0      Film Threat   December 8, 2002   \n",
       "\n",
       "                                                synopsis rating_y  \\\n",
       "8129   Friends with Kids is a daring and poignant ens...        R   \n",
       "14575  David Wagner is a Nineties kid with a Fifties ...    PG-13   \n",
       "26226  The grim futility of the war between Bosnia an...        R   \n",
       "35162  In this drama, two U.S. Marines who stood side...        R   \n",
       "35166  In this drama, two U.S. Marines who stood side...        R   \n",
       "40567  Vin Diesel opted to not appear in the sequel t...    PG-13   \n",
       "42381  Max Payne is a maverick cop - a mythic anti-he...    PG-13   \n",
       "49487  Madonna and Rupert Everett star in this comic ...    PG-13   \n",
       "49492  Madonna and Rupert Everett star in this comic ...    PG-13   \n",
       "\n",
       "                                                 genre            director  \\\n",
       "8129                                      Comedy|Drama  Jennifer Westfeldt   \n",
       "14575         Comedy|Drama|Science Fiction and Fantasy           Gary Ross   \n",
       "26226                Art House and International|Drama       Danis Tanovic   \n",
       "35162  Action and Adventure|Drama|Mystery and Suspense    William Friedkin   \n",
       "35166  Action and Adventure|Drama|Mystery and Suspense    William Friedkin   \n",
       "40567  Action and Adventure|Drama|Mystery and Suspense      John Singleton   \n",
       "42381  Action and Adventure|Drama|Mystery and Suspense    Steven Spielberg   \n",
       "49487         Art House and International|Comedy|Drama    John Schlesinger   \n",
       "49492         Art House and International|Comedy|Drama    John Schlesinger   \n",
       "\n",
       "                                              writer  theater_date  \\\n",
       "8129                              Jennifer Westfeldt   Mar 9, 2012   \n",
       "14575                                      Gary Ross  Oct 23, 1998   \n",
       "26226                                  Danis Tanovic  Dec 21, 2001   \n",
       "35162                                 Stephen Gaghan   Apr 7, 2000   \n",
       "35166                                 Stephen Gaghan   Apr 7, 2000   \n",
       "40567  Gary Scott Thompson|Derek Haas|Michael Brandt   Jun 6, 2003   \n",
       "42381                                    Beau Thorne  Oct 17, 2008   \n",
       "49487                                 Tom Ropelewski   Mar 3, 2000   \n",
       "49492                                 Tom Ropelewski   Mar 3, 2000   \n",
       "\n",
       "           dvd_date currency   box_office      runtime  \\\n",
       "8129   Jul 17, 2012        $    5,600,000  107 minutes   \n",
       "14575  Mar 23, 1999        $   20,900,803  125 minutes   \n",
       "26226   Apr 9, 2002        $      948,054   98 minutes   \n",
       "35162  Oct 10, 2000        $   20,900,803  127 minutes   \n",
       "35166  Oct 10, 2000        $   20,900,803  127 minutes   \n",
       "40567  Sep 30, 2003        $  127,083,765  108 minutes   \n",
       "42381  Jan 20, 2009        $   40,632,110  100 minutes   \n",
       "49487   May 2, 2005        $   20,900,803  108 minutes   \n",
       "49492   May 2, 2005        $   20,900,803  108 minutes   \n",
       "\n",
       "                               studio  \n",
       "8129             Roadside Attractions  \n",
       "14575                 New Line Cinema  \n",
       "26226         United Artists Pictures  \n",
       "35162              Paramount Pictures  \n",
       "35166              Paramount Pictures  \n",
       "40567  Universal Pictures Distributio  \n",
       "42381                20th Century Fox  \n",
       "49487            Paramount Home Video  \n",
       "49492            Paramount Home Video  "
      ]
     },
     "metadata": {},
     "output_type": "display_data"
    }
   ],
   "source": [
    "# Check for duplicate rows\n",
    "duplicates = merged_df.duplicated()\n",
    "\n",
    "# How many duplicates?\n",
    "print(f\"Number of duplicate rows: {duplicates.sum()}\")\n",
    "\n",
    "# Optionally, show the duplicate rows\n",
    "if duplicates.sum() > 0:\n",
    "    display(merged_df[duplicates])\n",
    "else:\n",
    "    print(\"No duplicate rows found.\")\n",
    "\n",
    "# Now actually remove duplicate rows\n",
    "merged_df.drop_duplicates(inplace=True)\n",
    "\n"
   ]
  },
  {
   "cell_type": "code",
   "execution_count": 16,
   "metadata": {},
   "outputs": [
    {
     "data": {
      "text/plain": [
       "Index(['id', 'review', 'rating_x', 'fresh', 'critic', 'top_critic',\n",
       "       'publisher', 'date', 'synopsis', 'rating_y', 'genre', 'director',\n",
       "       'writer', 'theater_date', 'dvd_date', 'currency', 'box_office',\n",
       "       'runtime', 'studio'],\n",
       "      dtype='object')"
      ]
     },
     "execution_count": 16,
     "metadata": {},
     "output_type": "execute_result"
    }
   ],
   "source": [
    "merged_df.columns"
   ]
  },
  {
   "cell_type": "markdown",
   "metadata": {},
   "source": [
    "## 2. *Box office Dataset*"
   ]
  },
  {
   "cell_type": "code",
   "execution_count": 17,
   "metadata": {},
   "outputs": [],
   "source": [
    "box_office = pd.read_csv('data/bom.movie_gross.csv.gz', delimiter=',')\n"
   ]
  },
  {
   "cell_type": "code",
   "execution_count": 18,
   "metadata": {},
   "outputs": [],
   "source": [
    "def explore_dataframe(df, name=\"DataFrame\"):\n",
    "    print(f\"\\n===== {name} Overview =====\")\n",
    "    \n",
    "    print(\"\\nShape:\")\n",
    "    print(df.shape)\n",
    "    \n",
    "    print(\"\\nInfo:\")\n",
    "    print(\"-\" * 40)\n",
    "    df.info()\n",
    "    \n",
    "    print(\"\\nDescription:\")\n",
    "    print(\"-\" * 40)\n",
    "    print(df.describe(include='all'))"
   ]
  },
  {
   "cell_type": "code",
   "execution_count": 19,
   "metadata": {},
   "outputs": [
    {
     "name": "stdout",
     "output_type": "stream",
     "text": [
      "\n",
      "===== Box Office Overview =====\n",
      "\n",
      "Shape:\n",
      "(3387, 5)\n",
      "\n",
      "Info:\n",
      "----------------------------------------\n",
      "<class 'pandas.core.frame.DataFrame'>\n",
      "RangeIndex: 3387 entries, 0 to 3386\n",
      "Data columns (total 5 columns):\n",
      " #   Column          Non-Null Count  Dtype  \n",
      "---  ------          --------------  -----  \n",
      " 0   title           3387 non-null   object \n",
      " 1   studio          3382 non-null   object \n",
      " 2   domestic_gross  3359 non-null   float64\n",
      " 3   foreign_gross   2037 non-null   object \n",
      " 4   year            3387 non-null   int64  \n",
      "dtypes: float64(1), int64(1), object(3)\n",
      "memory usage: 132.4+ KB\n",
      "\n",
      "Description:\n",
      "----------------------------------------\n",
      "            title studio  domestic_gross foreign_gross         year\n",
      "count        3387   3382    3.359000e+03          2037  3387.000000\n",
      "unique       3386    257             NaN          1204          NaN\n",
      "top     Bluebeard    IFC             NaN       1200000          NaN\n",
      "freq            2    166             NaN            23          NaN\n",
      "mean          NaN    NaN    2.874585e+07           NaN  2013.958075\n",
      "std           NaN    NaN    6.698250e+07           NaN     2.478141\n",
      "min           NaN    NaN    1.000000e+02           NaN  2010.000000\n",
      "25%           NaN    NaN    1.200000e+05           NaN  2012.000000\n",
      "50%           NaN    NaN    1.400000e+06           NaN  2014.000000\n",
      "75%           NaN    NaN    2.790000e+07           NaN  2016.000000\n",
      "max           NaN    NaN    9.367000e+08           NaN  2018.000000\n"
     ]
    }
   ],
   "source": [
    "explore_dataframe(box_office, name=\"Box Office\")"
   ]
  },
  {
   "cell_type": "code",
   "execution_count": 20,
   "metadata": {},
   "outputs": [
    {
     "data": {
      "text/html": [
       "<div>\n",
       "<style scoped>\n",
       "    .dataframe tbody tr th:only-of-type {\n",
       "        vertical-align: middle;\n",
       "    }\n",
       "\n",
       "    .dataframe tbody tr th {\n",
       "        vertical-align: top;\n",
       "    }\n",
       "\n",
       "    .dataframe thead th {\n",
       "        text-align: right;\n",
       "    }\n",
       "</style>\n",
       "<table border=\"1\" class=\"dataframe\">\n",
       "  <thead>\n",
       "    <tr style=\"text-align: right;\">\n",
       "      <th></th>\n",
       "      <th>title</th>\n",
       "      <th>studio</th>\n",
       "      <th>domestic_gross</th>\n",
       "      <th>foreign_gross</th>\n",
       "      <th>year</th>\n",
       "    </tr>\n",
       "  </thead>\n",
       "  <tbody>\n",
       "    <tr>\n",
       "      <th>0</th>\n",
       "      <td>Toy Story 3</td>\n",
       "      <td>BV</td>\n",
       "      <td>415000000.0</td>\n",
       "      <td>652000000</td>\n",
       "      <td>2010</td>\n",
       "    </tr>\n",
       "    <tr>\n",
       "      <th>1</th>\n",
       "      <td>Alice in Wonderland (2010)</td>\n",
       "      <td>BV</td>\n",
       "      <td>334200000.0</td>\n",
       "      <td>691300000</td>\n",
       "      <td>2010</td>\n",
       "    </tr>\n",
       "    <tr>\n",
       "      <th>2</th>\n",
       "      <td>Harry Potter and the Deathly Hallows Part 1</td>\n",
       "      <td>WB</td>\n",
       "      <td>296000000.0</td>\n",
       "      <td>664300000</td>\n",
       "      <td>2010</td>\n",
       "    </tr>\n",
       "    <tr>\n",
       "      <th>3</th>\n",
       "      <td>Inception</td>\n",
       "      <td>WB</td>\n",
       "      <td>292600000.0</td>\n",
       "      <td>535700000</td>\n",
       "      <td>2010</td>\n",
       "    </tr>\n",
       "    <tr>\n",
       "      <th>4</th>\n",
       "      <td>Shrek Forever After</td>\n",
       "      <td>P/DW</td>\n",
       "      <td>238700000.0</td>\n",
       "      <td>513900000</td>\n",
       "      <td>2010</td>\n",
       "    </tr>\n",
       "  </tbody>\n",
       "</table>\n",
       "</div>"
      ],
      "text/plain": [
       "                                         title studio  domestic_gross  \\\n",
       "0                                  Toy Story 3     BV     415000000.0   \n",
       "1                   Alice in Wonderland (2010)     BV     334200000.0   \n",
       "2  Harry Potter and the Deathly Hallows Part 1     WB     296000000.0   \n",
       "3                                    Inception     WB     292600000.0   \n",
       "4                          Shrek Forever After   P/DW     238700000.0   \n",
       "\n",
       "  foreign_gross  year  \n",
       "0     652000000  2010  \n",
       "1     691300000  2010  \n",
       "2     664300000  2010  \n",
       "3     535700000  2010  \n",
       "4     513900000  2010  "
      ]
     },
     "execution_count": 20,
     "metadata": {},
     "output_type": "execute_result"
    }
   ],
   "source": [
    "box_office.head()"
   ]
  },
  {
   "cell_type": "code",
   "execution_count": 21,
   "metadata": {},
   "outputs": [
    {
     "name": "stdout",
     "output_type": "stream",
     "text": [
      "foreign_gross     39.858282\n",
      "domestic_gross     0.826690\n",
      "studio             0.147623\n",
      "year               0.000000\n",
      "title              0.000000\n",
      "dtype: float64\n"
     ]
    }
   ],
   "source": [
    "# Calculate missing percentages\n",
    "missing_percentage = (box_office.isnull().sum() / len(box_office)) * 100\n",
    "\n",
    "# Display missing values sorted in descending order\n",
    "print(missing_percentage.sort_values(ascending=False))"
   ]
  },
  {
   "cell_type": "code",
   "execution_count": 22,
   "metadata": {},
   "outputs": [
    {
     "name": "stdout",
     "output_type": "stream",
     "text": [
      "year              0.0\n",
      "foreign_gross     0.0\n",
      "domestic_gross    0.0\n",
      "studio            0.0\n",
      "title             0.0\n",
      "dtype: float64\n"
     ]
    }
   ],
   "source": [
    "def input_missing_values(df):\n",
    "    for col in df.columns:\n",
    "        if df[col].isnull().sum() > 0:\n",
    "            if pd.api.types.is_numeric_dtype(df[col]):\n",
    "                # If numeric, fill missing values with the median\n",
    "                df[col].fillna(df[col].median(), inplace=True)\n",
    "            elif pd.api.types.is_object_dtype(df[col]):\n",
    "                # If categorical, fill missing values with the mode\n",
    "                df[col].fillna(df[col].mode()[0], inplace=True)\n",
    "            elif pd.api.types.is_datetime64_any_dtype(df[col]):\n",
    "                # If date column, fill missing dates with the most frequent date or median\n",
    "                df[col].fillna(df[col].mode()[0], inplace=True)\n",
    "                \n",
    "    return df\n",
    "box_office_cleaned=input_missing_values(box_office)\n",
    "\n",
    "# Calculate missing percentages\n",
    "missing_percentage = (box_office_cleaned.isnull().sum() / len(box_office_cleaned)) * 100\n",
    "\n",
    "# Display missing values sorted in descending order\n",
    "print(missing_percentage.sort_values(ascending=False))"
   ]
  },
  {
   "cell_type": "code",
   "execution_count": 23,
   "metadata": {},
   "outputs": [
    {
     "name": "stdout",
     "output_type": "stream",
     "text": [
      "Number of duplicate rows: 0\n",
      "No duplicate rows found.\n"
     ]
    }
   ],
   "source": [
    "# Check for duplicate rows\n",
    "duplicates = box_office_cleaned.duplicated()\n",
    "\n",
    "# How many duplicates?\n",
    "print(f\"Number of duplicate rows: {duplicates.sum()}\")\n",
    "\n",
    "# Optionally, show the duplicate rows\n",
    "if duplicates.sum() > 0:\n",
    "    display(box_office_cleaned[duplicates])\n",
    "else:\n",
    "    print(\"No duplicate rows found.\")\n"
   ]
  },
  {
   "cell_type": "code",
   "execution_count": 24,
   "metadata": {},
   "outputs": [
    {
     "data": {
      "text/plain": [
       "Index(['title', 'studio', 'domestic_gross', 'foreign_gross', 'year'], dtype='object')"
      ]
     },
     "execution_count": 24,
     "metadata": {},
     "output_type": "execute_result"
    }
   ],
   "source": [
    "box_office_cleaned.columns"
   ]
  },
  {
   "cell_type": "markdown",
   "metadata": {},
   "source": [
    "## The IMDB Dataset"
   ]
  },
  {
   "cell_type": "code",
   "execution_count": 25,
   "metadata": {},
   "outputs": [],
   "source": [
    "import zipfile\n",
    "with zipfile.ZipFile('data/im.db.zip', 'r') as zip_ref:\n",
    "    zip_ref.extractall('extracted/')\n",
    "\n",
    "import sqlite3\n",
    "conn = sqlite3.connect('extracted/im.db')\n",
    "\n"
   ]
  },
  {
   "cell_type": "code",
   "execution_count": 26,
   "metadata": {},
   "outputs": [
    {
     "name": "stdout",
     "output_type": "stream",
     "text": [
      "[('movie_basics',), ('directors',), ('known_for',), ('movie_akas',), ('movie_ratings',), ('persons',), ('principals',), ('writers',)]\n"
     ]
    }
   ],
   "source": [
    "cursor = conn.cursor()\n",
    "cursor.execute(\"SELECT name FROM sqlite_master WHERE type='table';\")\n",
    "tables = cursor.fetchall()\n",
    "print(tables)\n"
   ]
  },
  {
   "cell_type": "markdown",
   "metadata": {},
   "source": [
    "# user defined function that loops through the tables to check for null values"
   ]
  },
  {
   "cell_type": "code",
   "execution_count": 27,
   "metadata": {},
   "outputs": [],
   "source": [
    "\n",
    "# user defined function that loops through the tables to check for null values\n",
    "def check_nulls_in_all_tables(db_path):\n",
    "    conn = sqlite3.connect(db_path)\n",
    "    cursor = conn.cursor()\n",
    "\n",
    "    # Get all table names\n",
    "    cursor.execute(\"SELECT name FROM sqlite_master WHERE type='table';\")\n",
    "    tables = [row[0] for row in cursor.fetchall()]\n",
    "\n",
    "    for table in tables:\n",
    "        print(f\"\\n===== Missing Values in {table} =====\")\n",
    "        df = pd.read_sql(f\"SELECT * FROM {table}\", conn)\n",
    "        nulls = df.isnull().mean() * 100\n",
    "        print(nulls[nulls > 0].sort_values(ascending=False))  # only print columns with missing data\n",
    "\n",
    "    conn.close()\n"
   ]
  },
  {
   "cell_type": "code",
   "execution_count": 28,
   "metadata": {},
   "outputs": [
    {
     "name": "stdout",
     "output_type": "stream",
     "text": [
      "\n",
      "===== Missing Values in movie_basics =====\n",
      "runtime_minutes    21.717621\n",
      "genres              3.700460\n",
      "original_title      0.014369\n",
      "dtype: float64\n",
      "\n",
      "===== Missing Values in directors =====\n",
      "Series([], dtype: float64)\n",
      "\n",
      "===== Missing Values in known_for =====\n",
      "Series([], dtype: float64)\n",
      "\n",
      "===== Missing Values in movie_akas =====\n",
      "attributes           95.500493\n",
      "language             87.423991\n",
      "types                49.217523\n",
      "region               16.066481\n",
      "is_original_title     0.007537\n",
      "dtype: float64\n",
      "\n",
      "===== Missing Values in movie_ratings =====\n",
      "Series([], dtype: float64)\n",
      "\n",
      "===== Missing Values in persons =====\n",
      "death_year            98.881889\n",
      "birth_year            86.361778\n",
      "primary_profession     8.462898\n",
      "dtype: float64\n",
      "\n",
      "===== Missing Values in principals =====\n",
      "job           82.718691\n",
      "characters    61.742331\n",
      "dtype: float64\n",
      "\n",
      "===== Missing Values in writers =====\n",
      "Series([], dtype: float64)\n"
     ]
    }
   ],
   "source": [
    "check_nulls_in_all_tables('extracted/im.db')\n"
   ]
  },
  {
   "cell_type": "markdown",
   "metadata": {},
   "source": [
    "## **Using a user -defined function for cleaning of the SQL dataset**"
   ]
  },
  {
   "cell_type": "code",
   "execution_count": 29,
   "metadata": {},
   "outputs": [],
   "source": [
    "import sqlite3  # Import the SQLite3 module for database operations\n",
    "import pandas as pd  # Import pandas for data manipulation\n",
    "\n",
    "def clean_db_with_fill_strategy(db_path):\n",
    "    # Connect to the SQLite database using the provided path\n",
    "    conn = sqlite3.connect(db_path)\n",
    "    cursor = conn.cursor()  # Create a cursor object to interact with the database\n",
    "\n",
    "    # Execute SQL query to get all table names in the database\n",
    "    cursor.execute(\"SELECT name FROM sqlite_master WHERE type='table';\")\n",
    "    tables = cursor.fetchall()  # Fetch the table names from the query result\n",
    "\n",
    "    # Loop through each table in the database\n",
    "    for (table,) in tables:\n",
    "        # Read the entire table into a pandas DataFrame\n",
    "        df = pd.read_sql(f\"SELECT * FROM {table}\", conn)\n",
    "        \n",
    "        # Calculate the number of missing (null) values in each column\n",
    "        nulls = df.isnull().sum()\n",
    "        \n",
    "        # If there are no missing values in the table, skip to the next table\n",
    "        if nulls.sum() == 0:\n",
    "            continue  # Skip if no nulls in the table\n",
    "\n",
    "        print(f\"\\nCleaning '{table}'...\")  # Print the current table name being cleaned\n",
    "\n",
    "        # Loop through each column in the DataFrame\n",
    "        for col in df.columns:\n",
    "            # Check if the column has any missing values\n",
    "            if df[col].isnull().sum() > 0:\n",
    "                # If the column is numeric, fill missing values with the median\n",
    "                if pd.api.types.is_numeric_dtype(df[col]):\n",
    "                    df[col].fillna(df[col].median(), inplace=True)\n",
    "                else:\n",
    "                    # If the column is categorical, fill missing values with the mode (most frequent value)\n",
    "                    if not df[col].mode().empty:\n",
    "                        df[col].fillna(df[col].mode()[0], inplace=True)\n",
    "\n",
    "        # Drop duplicate rows from the DataFrame\n",
    "        df.drop_duplicates(inplace=True)\n",
    "        print(f\"Duplicates dropped in '{table}'.\")  # Print a message indicating duplicates were removed\n",
    "\n",
    "        # Print the number of remaining null values in each column after cleaning\n",
    "        print(f\"Nulls remaining in '{table}':\\n{df.isnull().sum()}\")\n",
    "        \n",
    "        # Optional: Save the cleaned DataFrame back into the database, replacing the old table\n",
    "        # df.to_sql(table, conn, if_exists=\"replace\", index=False)\n",
    "\n",
    "    # Close the connection to the database\n",
    "    # conn.close()\n"
   ]
  },
  {
   "cell_type": "code",
   "execution_count": 30,
   "metadata": {},
   "outputs": [
    {
     "name": "stdout",
     "output_type": "stream",
     "text": [
      "\n",
      "Cleaning 'movie_basics'...\n",
      "Duplicates dropped in 'movie_basics'.\n",
      "Nulls remaining in 'movie_basics':\n",
      "movie_id           0\n",
      "primary_title      0\n",
      "original_title     0\n",
      "start_year         0\n",
      "runtime_minutes    0\n",
      "genres             0\n",
      "dtype: int64\n",
      "\n",
      "Cleaning 'movie_akas'...\n",
      "Duplicates dropped in 'movie_akas'.\n",
      "Nulls remaining in 'movie_akas':\n",
      "movie_id             0\n",
      "ordering             0\n",
      "title                0\n",
      "region               0\n",
      "language             0\n",
      "types                0\n",
      "attributes           0\n",
      "is_original_title    0\n",
      "dtype: int64\n",
      "\n",
      "Cleaning 'persons'...\n",
      "Duplicates dropped in 'persons'.\n",
      "Nulls remaining in 'persons':\n",
      "person_id             0\n",
      "primary_name          0\n",
      "birth_year            0\n",
      "death_year            0\n",
      "primary_profession    0\n",
      "dtype: int64\n",
      "\n",
      "Cleaning 'principals'...\n",
      "Duplicates dropped in 'principals'.\n",
      "Nulls remaining in 'principals':\n",
      "movie_id      0\n",
      "ordering      0\n",
      "person_id     0\n",
      "category      0\n",
      "job           0\n",
      "characters    0\n",
      "dtype: int64\n"
     ]
    }
   ],
   "source": [
    "clean_db_with_fill_strategy('extracted/im.db')"
   ]
  },
  {
   "cell_type": "markdown",
   "metadata": {},
   "source": [
    "> # Combined Visuals and Analysis"
   ]
  },
  {
   "cell_type": "markdown",
   "metadata": {},
   "source": [
    ">> ## Studios vs Box Office\n",
    "\n"
   ]
  },
  {
   "cell_type": "code",
   "execution_count": 31,
   "metadata": {},
   "outputs": [
    {
     "data": {
      "image/png": "[encoded data removed]",
      "text/plain": [
       "<Figure size 864x432 with 1 Axes>"
      ]
     },
     "metadata": {
      "needs_background": "light"
     },
     "output_type": "display_data"
    }
   ],
   "source": [
    "# Remove commas and convert to numeric\n",
    "merged_df['box_office'] = merged_df['box_office'].replace(',', '', regex=True)\n",
    "merged_df['box_office'] = pd.to_numeric(merged_df['box_office'], errors='coerce')\n",
    "# Group by studio and calculate mean\n",
    "studio_box_office = merged_df.groupby('studio')['box_office'].mean().dropna().sort_values(ascending=False)\n",
    "\n",
    "# Top 10 Studios\n",
    "top_10_studios = studio_box_office.head(10)\n",
    "\n",
    "# Plot\n",
    "import matplotlib.pyplot as plt\n",
    "import seaborn as sns\n",
    "\n",
    "plt.figure(figsize=(12,6))\n",
    "sns.barplot(x=top_10_studios.values, y=top_10_studios.index, palette=\"viridis\")\n",
    "plt.title('Top 10 Studios by Average Box Office Earnings')\n",
    "plt.xlabel('Average Box Office ($)')\n",
    "plt.ylabel('Studio')\n",
    "plt.show()\n",
    "\n"
   ]
  },
  {
   "cell_type": "code",
   "execution_count": 32,
   "metadata": {},
   "outputs": [
    {
     "data": {
      "image/png": "[encoded data removed]",
      "text/plain": [
       "<Figure size 720x432 with 1 Axes>"
      ]
     },
     "metadata": {
      "needs_background": "light"
     },
     "output_type": "display_data"
    }
   ],
   "source": [
    "# Find top 5 studios by number of movies\n",
    "top_studios = merged_df['studio'].value_counts().head(5).index\n",
    "\n",
    "# Filter dataframe\n",
    "filtered_df = merged_df[merged_df['studio'].isin(top_studios)]\n",
    "\n",
    "# Now make the boxplot again\n",
    "plt.figure(figsize=(10, 6))\n",
    "sns.boxplot(data=filtered_df, x='studio', y='box_office')\n",
    "plt.title('Box Office Earnings by Top 5 Studios')\n",
    "plt.show()\n",
    "\n"
   ]
  },
  {
   "cell_type": "code",
   "execution_count": 33,
   "metadata": {},
   "outputs": [
    {
     "name": "stdout",
     "output_type": "stream",
     "text": [
      "F-statistic: 136.53379349295736\n",
      "P-value: 0.0\n"
     ]
    }
   ],
   "source": [
    "from scipy.stats import f_oneway\n",
    "\n",
    "# Prepare data for ANOVA\n",
    "groups = [group['box_office'].values for name, group in merged_df.groupby('studio')]\n",
    "\n",
    "# Run the ANOVA test\n",
    "f_stat, p_value = f_oneway(*groups)\n",
    "\n",
    "# Print results\n",
    "print(f\"F-statistic: {f_stat}\")\n",
    "print(f\"P-value: {p_value}\")\n"
   ]
  },
  {
   "cell_type": "markdown",
   "metadata": {},
   "source": [
    "The p-value tests the null hypothesis: \"All group means are equal.\"\n",
    "\n",
    "A p-value close to 0 (technically here it is something like <0.0001) means:\n",
    "\n",
    "You reject the null hypothesis.\n",
    "\n",
    "There are statistically significant differences between at least two of the groups.\n",
    "\n",
    "There is strong evidence to suggest that at least one studio has a significantly different mean box office earnings compared to the others. The results of the ANOVA test confirm that the differences in the average earnings across studios are statistically significant."
   ]
  },
  {
   "cell_type": "markdown",
   "metadata": {},
   "source": [
    "#### Box office dataset visual"
   ]
  },
  {
   "cell_type": "code",
   "execution_count": 34,
   "metadata": {},
   "outputs": [
    {
     "ename": "KeyError",
     "evalue": "'Column not found: total_gross'",
     "output_type": "error",
     "traceback": [
      "\u001b[1;31m---------------------------------------------------------------------------\u001b[0m",
      "\u001b[1;31mKeyError\u001b[0m                                  Traceback (most recent call last)",
      "\u001b[1;32m<ipython-input-34-8ebd08711cc3>\u001b[0m in \u001b[0;36m<module>\u001b[1;34m\u001b[0m\n\u001b[0;32m      6\u001b[0m \u001b[0mbox_office_cleaned\u001b[0m\u001b[1;33m[\u001b[0m\u001b[1;34m'domestic_gross'\u001b[0m\u001b[1;33m]\u001b[0m \u001b[1;33m=\u001b[0m \u001b[0mpd\u001b[0m\u001b[1;33m.\u001b[0m\u001b[0mto_numeric\u001b[0m\u001b[1;33m(\u001b[0m\u001b[0mbox_office_cleaned\u001b[0m\u001b[1;33m[\u001b[0m\u001b[1;34m'domestic_gross'\u001b[0m\u001b[1;33m]\u001b[0m\u001b[1;33m,\u001b[0m \u001b[0merrors\u001b[0m\u001b[1;33m=\u001b[0m\u001b[1;34m'coerce'\u001b[0m\u001b[1;33m)\u001b[0m\u001b[1;33m\u001b[0m\u001b[1;33m\u001b[0m\u001b[0m\n\u001b[0;32m      7\u001b[0m \u001b[1;31m# Group by studio\u001b[0m\u001b[1;33m\u001b[0m\u001b[1;33m\u001b[0m\u001b[1;33m\u001b[0m\u001b[0m\n\u001b[1;32m----> 8\u001b[1;33m \u001b[0mstudio_gross\u001b[0m \u001b[1;33m=\u001b[0m \u001b[0mbox_office_cleaned\u001b[0m\u001b[1;33m.\u001b[0m\u001b[0mgroupby\u001b[0m\u001b[1;33m(\u001b[0m\u001b[1;34m'studio'\u001b[0m\u001b[1;33m)\u001b[0m\u001b[1;33m[\u001b[0m\u001b[1;34m'total_gross'\u001b[0m\u001b[1;33m]\u001b[0m\u001b[1;33m.\u001b[0m\u001b[0msum\u001b[0m\u001b[1;33m(\u001b[0m\u001b[1;33m)\u001b[0m\u001b[1;33m.\u001b[0m\u001b[0msort_values\u001b[0m\u001b[1;33m(\u001b[0m\u001b[0mascending\u001b[0m\u001b[1;33m=\u001b[0m\u001b[1;32mFalse\u001b[0m\u001b[1;33m)\u001b[0m\u001b[1;33m.\u001b[0m\u001b[0mhead\u001b[0m\u001b[1;33m(\u001b[0m\u001b[1;36m5\u001b[0m\u001b[1;33m)\u001b[0m\u001b[1;33m\u001b[0m\u001b[1;33m\u001b[0m\u001b[0m\n\u001b[0m\u001b[0;32m      9\u001b[0m \u001b[1;33m\u001b[0m\u001b[0m\n\u001b[0;32m     10\u001b[0m \u001b[1;31m# Plot\u001b[0m\u001b[1;33m\u001b[0m\u001b[1;33m\u001b[0m\u001b[1;33m\u001b[0m\u001b[0m\n",
      "\u001b[1;32mc:\\Users\\SOOQ ELASER\\anaconda3\\envs\\learn-env\\lib\\site-packages\\pandas\\core\\groupby\\generic.py\u001b[0m in \u001b[0;36m__getitem__\u001b[1;34m(self, key)\u001b[0m\n\u001b[0;32m   1648\u001b[0m                 \u001b[0mstacklevel\u001b[0m\u001b[1;33m=\u001b[0m\u001b[1;36m2\u001b[0m\u001b[1;33m,\u001b[0m\u001b[1;33m\u001b[0m\u001b[1;33m\u001b[0m\u001b[0m\n\u001b[0;32m   1649\u001b[0m             )\n\u001b[1;32m-> 1650\u001b[1;33m         \u001b[1;32mreturn\u001b[0m \u001b[0msuper\u001b[0m\u001b[1;33m(\u001b[0m\u001b[1;33m)\u001b[0m\u001b[1;33m.\u001b[0m\u001b[0m__getitem__\u001b[0m\u001b[1;33m(\u001b[0m\u001b[0mkey\u001b[0m\u001b[1;33m)\u001b[0m\u001b[1;33m\u001b[0m\u001b[1;33m\u001b[0m\u001b[0m\n\u001b[0m\u001b[0;32m   1651\u001b[0m \u001b[1;33m\u001b[0m\u001b[0m\n\u001b[0;32m   1652\u001b[0m     \u001b[1;32mdef\u001b[0m \u001b[0m_gotitem\u001b[0m\u001b[1;33m(\u001b[0m\u001b[0mself\u001b[0m\u001b[1;33m,\u001b[0m \u001b[0mkey\u001b[0m\u001b[1;33m,\u001b[0m \u001b[0mndim\u001b[0m\u001b[1;33m:\u001b[0m \u001b[0mint\u001b[0m\u001b[1;33m,\u001b[0m \u001b[0msubset\u001b[0m\u001b[1;33m=\u001b[0m\u001b[1;32mNone\u001b[0m\u001b[1;33m)\u001b[0m\u001b[1;33m:\u001b[0m\u001b[1;33m\u001b[0m\u001b[1;33m\u001b[0m\u001b[0m\n",
      "\u001b[1;32mc:\\Users\\SOOQ ELASER\\anaconda3\\envs\\learn-env\\lib\\site-packages\\pandas\\core\\base.py\u001b[0m in \u001b[0;36m__getitem__\u001b[1;34m(self, key)\u001b[0m\n\u001b[0;32m    226\u001b[0m         \u001b[1;32melse\u001b[0m\u001b[1;33m:\u001b[0m\u001b[1;33m\u001b[0m\u001b[1;33m\u001b[0m\u001b[0m\n\u001b[0;32m    227\u001b[0m             \u001b[1;32mif\u001b[0m \u001b[0mkey\u001b[0m \u001b[1;32mnot\u001b[0m \u001b[1;32min\u001b[0m \u001b[0mself\u001b[0m\u001b[1;33m.\u001b[0m\u001b[0mobj\u001b[0m\u001b[1;33m:\u001b[0m\u001b[1;33m\u001b[0m\u001b[1;33m\u001b[0m\u001b[0m\n\u001b[1;32m--> 228\u001b[1;33m                 \u001b[1;32mraise\u001b[0m \u001b[0mKeyError\u001b[0m\u001b[1;33m(\u001b[0m\u001b[1;34mf\"Column not found: {key}\"\u001b[0m\u001b[1;33m)\u001b[0m\u001b[1;33m\u001b[0m\u001b[1;33m\u001b[0m\u001b[0m\n\u001b[0m\u001b[0;32m    229\u001b[0m             \u001b[1;32mreturn\u001b[0m \u001b[0mself\u001b[0m\u001b[1;33m.\u001b[0m\u001b[0m_gotitem\u001b[0m\u001b[1;33m(\u001b[0m\u001b[0mkey\u001b[0m\u001b[1;33m,\u001b[0m \u001b[0mndim\u001b[0m\u001b[1;33m=\u001b[0m\u001b[1;36m1\u001b[0m\u001b[1;33m)\u001b[0m\u001b[1;33m\u001b[0m\u001b[1;33m\u001b[0m\u001b[0m\n\u001b[0;32m    230\u001b[0m \u001b[1;33m\u001b[0m\u001b[0m\n",
      "\u001b[1;31mKeyError\u001b[0m: 'Column not found: total_gross'"
     ]
    }
   ],
   "source": [
    "import pandas as pd\n",
    "import matplotlib.pyplot as plt\n",
    "import seaborn as sns\n",
    "\n",
    "# Calculate total gross\n",
    "box_office_cleaned['domestic_gross'] = pd.to_numeric(box_office_cleaned['domestic_gross'], errors='coerce') \n",
    "# Group by studio\n",
    "studio_gross = box_office_cleaned.groupby('studio')['total_gross'].sum().sort_values(ascending=False).head(5)\n",
    "\n",
    "# Plot\n",
    "plt.figure(figsize=(12, 6))\n",
    "sns.barplot(x=studio_gross.values, y=studio_gross.index, palette='rocket')\n",
    "plt.title('Top 10 Studios by Total Gross Revenue', fontsize=16)\n",
    "plt.xlabel('domestic Gross ($)')\n",
    "plt.ylabel('Studio')\n",
    "plt.grid(axis='x', linestyle='--', alpha=0.6)\n",
    "plt.show()"
   ]
  },
  {
   "cell_type": "markdown",
   "metadata": {},
   "source": [
    "Null Hypothesis: There is no difference in the medians of domestic gross earnings across studios.\n",
    "\n",
    "Alternative Hypothesis: There is a difference in the medians of domestic gross earnings across studios."
   ]
  },
  {
   "cell_type": "code",
   "execution_count": null,
   "metadata": {},
   "outputs": [],
   "source": [
    "from scipy.stats import f_oneway\n",
    "\n",
    "# Prepare data for ANOVA (grouped by studio)\n",
    "groups = [group['domestic_gross'].values for name, group in box_office_cleaned.groupby('studio')]\n",
    "\n",
    "# Perform the One-Way ANOVA\n",
    "f_stat, p_value = f_oneway(*groups)\n",
    "\n",
    "# Print the result\n",
    "print(f\"F-statistic: {f_stat}\")\n",
    "print(f\"P-value: {p_value}\")\n"
   ]
  },
  {
   "cell_type": "markdown",
   "metadata": {},
   "source": [
    "There is a statistically significant difference in the mean domestic gross earnings between the studios.\n",
    "\n",
    "At least one studio has a different average domestic gross compared to the others.\n",
    "\n"
   ]
  },
  {
   "cell_type": "markdown",
   "metadata": {},
   "source": [
    ">>> ## Top Directors vs Box Office"
   ]
  },
  {
   "cell_type": "code",
   "execution_count": null,
   "metadata": {},
   "outputs": [
    {
     "data": {
      "image/png": "[encoded data removed]",
      "text/plain": [
       "<Figure size 720x432 with 1 Axes>"
      ]
     },
     "metadata": {
      "needs_background": "light"
     },
     "output_type": "display_data"
    },
    {
     "name": "stdout",
     "output_type": "stream",
     "text": [
      "T-statistic: 26.0987, P-value: 0.0000\n"
     ]
    }
   ],
   "source": [
    "# --- 1. Connect to your database ---\n",
    "import sqlite3\n",
    "import pandas as pd\n",
    "\n",
    "# Connect (adjust path if needed)\n",
    "conn = sqlite3.connect('extracted/im.db')  # or your actual db\n",
    "\n",
    "# --- 2. SQL Queries ---\n",
    "\n",
    "# 2.1 Directors and their movies\n",
    "query_directors = \"\"\"\n",
    "SELECT d.movie_id, p.primary_name AS director_name\n",
    "FROM directors AS d\n",
    "JOIN persons AS p\n",
    "ON d.person_id = p.person_id;\n",
    "\"\"\"\n",
    "directors_df = pd.read_sql_query(query_directors, conn)\n",
    "\n",
    "# 2.2 Movies and their average ratings\n",
    "query_ratings = \"\"\"\n",
    "SELECT movie_id, averagerating\n",
    "FROM movie_ratings;\n",
    "\"\"\"\n",
    "ratings_df = pd.read_sql_query(query_ratings, conn)\n",
    "\n",
    "# --- 3. Merge Directors with Ratings ---\n",
    "directors_with_ratings = pd.merge(directors_df, ratings_df, on='movie_id')\n",
    "\n",
    "# --- 4. Calculate average rating per director ---\n",
    "director_avg_rating = directors_with_ratings.groupby('director_name')['averagerating'].mean()\n",
    "\n",
    "# --- 5. Define \"top directors\" (avg rating >= 7.0) ---\n",
    "top_directors = director_avg_rating[director_avg_rating >= 7.0].index.tolist()\n",
    "\n",
    "# --- 6. Mark in merged_df whether movie is by a top director ---\n",
    "merged_df['is_top_director'] = merged_df['director'].isin(top_directors)\n",
    "\n",
    "# --- 7. Convert 'box_office' to numeric (if not done already) ---\n",
    "merged_df['box_office'] = (\n",
    "    merged_df['box_office']\n",
    "    .replace('[\\$,]', '', regex=True)  # remove $ and commas\n",
    "    .astype(float)\n",
    ")\n",
    "\n",
    "# --- 8. Drop NaN values in 'box_office' before visualization ---\n",
    "filtered_df = merged_df.dropna(subset=['box_office'])\n",
    "\n",
    "# --- 9. Visualization ---\n",
    "\n",
    "import seaborn as sns\n",
    "import matplotlib.pyplot as plt\n",
    "\n",
    "plt.figure(figsize=(10,6))\n",
    "sns.boxplot(data=filtered_df, x='is_top_director', y='box_office')\n",
    "plt.title('Box Office Revenue: Top Directors vs Others')\n",
    "plt.xlabel('Top Director (Yes/No)')\n",
    "plt.ylabel('Box Office ($)')\n",
    "plt.yscale('log')  # optional: log scale for better boxplot view\n",
    "plt.show()\n",
    "\n",
    "# --- 10. Statistical test (T-test) ---\n",
    "from scipy import stats\n",
    "\n",
    "# Split into two groups\n",
    "top_director_revenue = filtered_df[filtered_df['is_top_director']]['box_office']\n",
    "other_director_revenue = filtered_df[~filtered_df['is_top_director']]['box_office']\n",
    "\n",
    "# Perform t-test\n",
    "t_stat, p_val = stats.ttest_ind(top_director_revenue, other_director_revenue, equal_var=False)\n",
    "print(f\"T-statistic: {t_stat:.4f}, P-value: {p_val:.4f}\")\n"
   ]
  },
  {
   "cell_type": "markdown",
   "metadata": {},
   "source": [
    "The null hypothesis for this test was that the mean box office revenue for movies by top directors is the same as that of movies by non-top directors.\n",
    "\n",
    "Since the p-value is essentially 0, we can confidently conclude that the box office earnings for movies directed by top directors are significantly higher than those directed by others."
   ]
  },
  {
   "cell_type": "code",
   "execution_count": null,
   "metadata": {},
   "outputs": [],
   "source": [
    "sql_query = \"\"\"SELECT \n",
    "    p.primary_name AS writer_name,\n",
    "    AVG(mr.averagerating) AS avg_rating\n",
    "FROM \n",
    "    writers w\n",
    "JOIN \n",
    "    persons p \n",
    "ON \n",
    "    w.person_id = p.person_id\n",
    "JOIN \n",
    "    movie_ratings mr \n",
    "ON \n",
    "    w.movie_id = mr.movie_id\n",
    "GROUP BY \n",
    "    p.primary_name\n",
    "HAVING \n",
    "    COUNT(w.movie_id) > 2\n",
    "ORDER BY \n",
    "    avg_rating DESC\n",
    "LIMIT 10; \"\"\"\n",
    "length_rating_df = pd.read_sql(sql_query, conn)\n"
   ]
  },
  {
   "cell_type": "code",
   "execution_count": null,
   "metadata": {},
   "outputs": [],
   "source": [
    "runtime_query = \"\"\"\n",
    "SELECT \n",
    "    mb.runtime_minutes,\n",
    "    mr.averagerating\n",
    "FROM \n",
    "    movie_basics mb\n",
    "JOIN \n",
    "    movie_ratings mr \n",
    "ON \n",
    "    mb.movie_id = mr.movie_id\n",
    "WHERE \n",
    "    mb.runtime_minutes IS NOT NULL\n",
    "    AND mb.runtime_minutes != '\\\\N'\n",
    "    AND mr.averagerating IS NOT NULL\n",
    "\"\"\"\n",
    "runtime_df = pd.read_sql(runtime_query, conn)"
   ]
  },
  {
   "cell_type": "code",
   "execution_count": null,
   "metadata": {},
   "outputs": [],
   "source": [
    "directors_query = \"\"\"\n",
    "SELECT \n",
    "    p.primary_name AS director_name,\n",
    "    AVG(mr.averagerating) AS avg_rating\n",
    "FROM \n",
    "    directors d\n",
    "JOIN \n",
    "    persons p \n",
    "ON \n",
    "    d.person_id = p.person_id\n",
    "JOIN \n",
    "    movie_ratings mr \n",
    "ON \n",
    "    d.movie_id = mr.movie_id\n",
    "GROUP BY \n",
    "    p.primary_name\n",
    "HAVING \n",
    "    COUNT(d.movie_id) > 2\n",
    "ORDER BY \n",
    "    avg_rating DESC\n",
    "LIMIT 10;\n",
    "\"\"\"\n",
    "# Run query\n",
    "directors_df = pd.read_sql(directors_query, conn)"
   ]
  },
  {
   "cell_type": "code",
   "execution_count": null,
   "metadata": {},
   "outputs": [
    {
     "data": {
      "image/png": "[encoded data removed]",
      "text/plain": [
       "<Figure size 720x432 with 1 Axes>"
      ]
     },
     "metadata": {
      "needs_background": "light"
     },
     "output_type": "display_data"
    }
   ],
   "source": [
    "\n",
    "directors_df = directors_df.sort_values('avg_rating', ascending=True)  # Horizontal bar chart\n",
    "\n",
    "plt.figure(figsize=(10, 6))\n",
    "sns.barplot(data=directors_df, x='avg_rating', y='director_name', palette='viridis')\n",
    "plt.title('Top Directors by Average Movie Rating', fontsize=16)\n",
    "plt.xlabel('Average Rating')\n",
    "plt.ylabel('Director')\n",
    "plt.grid(True, axis='x', linestyle='--', alpha=0.7)\n",
    "plt.show()"
   ]
  },
  {
   "cell_type": "markdown",
   "metadata": {},
   "source": [
    ">>>> ## Genre vs Box Office"
   ]
  },
  {
   "cell_type": "code",
   "execution_count": null,
   "metadata": {},
   "outputs": [
    {
     "data": {
      "image/png": "[encoded data removed]",
      "text/plain": [
       "<Figure size 1008x576 with 1 Axes>"
      ]
     },
     "metadata": {
      "needs_background": "light"
     },
     "output_type": "display_data"
    },
    {
     "name": "stdout",
     "output_type": "stream",
     "text": [
      "ANOVA F-statistic: 651.8414, P-value: 0.0000\n"
     ]
    }
   ],
   "source": [
    "# --- 1. Genre and Box Office Analysis ---\n",
    "\n",
    "# Handle missing or invalid box office\n",
    "merged_df['box_office'] = (\n",
    "    merged_df['box_office']\n",
    "    .replace('[\\$,]', '', regex=True)\n",
    "    .astype(float)\n",
    ")\n",
    "\n",
    "# Drop missing box office and genre rows\n",
    "genre_df = merged_df.dropna(subset=['box_office', 'genre']).copy()\n",
    "\n",
    "# --- 2. Handling multiple genres ---\n",
    "# Many movies have multiple genres separated by '|'\n",
    "# We'll explode them so each genre has its own row\n",
    "\n",
    "genre_df['genre'] = genre_df['genre'].str.split('|')\n",
    "genre_df = genre_df.explode('genre')\n",
    "\n",
    "# --- 3. Visualization ---\n",
    "\n",
    "import seaborn as sns\n",
    "import matplotlib.pyplot as plt\n",
    "\n",
    "plt.figure(figsize=(14,8))\n",
    "top_genres = genre_df['genre'].value_counts().nlargest(10).index  # top 10 genres\n",
    "sns.boxplot(data=genre_df[genre_df['genre'].isin(top_genres)], x='genre', y='box_office')\n",
    "plt.xticks(rotation=45)\n",
    "plt.yscale('log')  # optional: to handle extreme box office values\n",
    "plt.title('Box Office Revenue by Genre')\n",
    "plt.xlabel('Genre')\n",
    "plt.ylabel('Box Office ($)')\n",
    "plt.show()\n",
    "\n",
    "# --- 4. Statistical Test (ANOVA) ---\n",
    "\n",
    "from scipy import stats\n",
    "\n",
    "# Prepare data for ANOVA\n",
    "anova_data = [genre_df[genre_df['genre'] == genre]['box_office'] for genre in top_genres]\n",
    "\n",
    "# Perform one-way ANOVA\n",
    "f_stat, p_val = stats.f_oneway(*anova_data)\n",
    "print(f\"ANOVA F-statistic: {f_stat:.4f}, P-value: {p_val:.4f}\")\n"
   ]
  },
  {
   "cell_type": "markdown",
   "metadata": {},
   "source": [
    "There is strong evidence that the mean box office earnings differ significantly across genres. In simpler terms, some genres tend to perform much better than others at the box office.\n",
    "\n",
    "This result is statistically significant, with a very low p-value indicating that the observed differences are unlikely to have occurred by chance."
   ]
  },
  {
   "cell_type": "code",
   "execution_count": null,
   "metadata": {},
   "outputs": [
    {
     "name": "stdout",
     "output_type": "stream",
     "text": [
      "genre\n",
      "Television                     37442180.0\n",
      "Animation                      21379315.0\n",
      "Action and Adventure           20900803.0\n",
      "Sports and Fitness             20900803.0\n",
      "Special Interest               20900803.0\n",
      "Science Fiction and Fantasy    20900803.0\n",
      "Romance                        20900803.0\n",
      "Mystery and Suspense           20900803.0\n",
      "Kids and Family                20900803.0\n",
      "Horror                         20900803.0\n",
      "Name: box_office, dtype: float64\n"
     ]
    }
   ],
   "source": [
    "# Median box office revenue per genre\n",
    "genre_medians = genre_df.groupby('genre')['box_office'].median().sort_values(ascending=False)\n",
    "\n",
    "print(genre_medians.head(10))  # Top 10 genres by median box office\n"
   ]
  }
 ],
 "metadata": {
  "kernelspec": {
   "display_name": "Python (learn-env)",
   "language": "python",
   "name": "learn-env"
  },
  "language_info": {
   "codemirror_mode": {
    "name": "ipython",
    "version": 3
   },
   "file_extension": ".py",
   "mimetype": "text/x-python",
   "name": "python",
   "nbconvert_exporter": "python",
   "pygments_lexer": "ipython3",
   "version": "3.8.5"
  }
 },
 "nbformat": 4,
 "nbformat_minor": 2
}
